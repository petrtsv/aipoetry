{
  "nbformat": 4,
  "nbformat_minor": 0,
  "metadata": {
    "colab": {
      "name": "preprocessing.ipynb",
      "provenance": [],
      "authorship_tag": "ABX9TyMA71LgTbv6/XArzIqS8Gvr",
      "include_colab_link": true
    },
    "kernelspec": {
      "name": "python3",
      "display_name": "Python 3"
    },
    "language_info": {
      "name": "python"
    }
  },
  "cells": [
    {
      "cell_type": "markdown",
      "metadata": {
        "id": "view-in-github",
        "colab_type": "text"
      },
      "source": [
        "<a href=\"https://colab.research.google.com/github/petrtsv/aipoetry/blob/main/preprocessing.ipynb\" target=\"_parent\"><img src=\"https://colab.research.google.com/assets/colab-badge.svg\" alt=\"Open In Colab\"/></a>"
      ]
    },
    {
      "cell_type": "code",
      "metadata": {
        "id": "Cv2kfyA0EUza"
      },
      "source": [
        "import requests\n",
        "\n",
        "res = requests.get('https://raw.githubusercontent.com/IlyaGusev/PoetryCorpus/master/datasets/corpus/all.xml')\n",
        "\n",
        "raw_text = res.text"
      ],
      "execution_count": null,
      "outputs": []
    },
    {
      "cell_type": "code",
      "metadata": {
        "id": "ZN70jzQ4oqQE"
      },
      "source": [
        "import xml.etree.ElementTree as ET"
      ],
      "execution_count": null,
      "outputs": []
    },
    {
      "cell_type": "code",
      "metadata": {
        "id": "C_oNq--KnyqK"
      },
      "source": [
        "root = ET.fromstring(raw_text)\n",
        "\n",
        "with open('dataset.txt', 'w') as f:\n",
        "  for txt_el in root.findall('item/text'):\n",
        "    raw = txt_el.text\n",
        "    new = ' '.join(raw.replace('\\n', ' $ ').split()).lower() + '\\n'\n",
        "    f.write(new)"
      ],
      "execution_count": null,
      "outputs": []
    }
  ]
}