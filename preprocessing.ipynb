{
  "nbformat": 4,
  "nbformat_minor": 0,
  "metadata": {
    "colab": {
      "name": "preprocessing.ipynb",
      "provenance": [],
      "authorship_tag": "ABX9TyMhAWXE8InrLrTGHzKXJeyW",
      "include_colab_link": true
    },
    "kernelspec": {
      "name": "python3",
      "display_name": "Python 3"
    },
    "language_info": {
      "name": "python"
    }
  },
  "cells": [
    {
      "cell_type": "markdown",
      "metadata": {
        "id": "view-in-github",
        "colab_type": "text"
      },
      "source": [
        "<a href=\"https://colab.research.google.com/github/petrtsv/aipoetry/blob/main/preprocessing.ipynb\" target=\"_parent\"><img src=\"https://colab.research.google.com/assets/colab-badge.svg\" alt=\"Open In Colab\"/></a>"
      ]
    },
    {
      "cell_type": "code",
      "metadata": {
        "id": "Cv2kfyA0EUza"
      },
      "source": [
        "import requests\n",
        "\n",
        "res = requests.get('https://raw.githubusercontent.com/IlyaGusev/PoetryCorpus/master/datasets/corpus/all.xml')\n",
        "\n",
        "raw_text = res.text"
      ],
      "execution_count": 35,
      "outputs": []
    },
    {
      "cell_type": "code",
      "metadata": {
        "id": "ZN70jzQ4oqQE"
      },
      "source": [
        "import xml.etree.ElementTree as ET"
      ],
      "execution_count": 36,
      "outputs": []
    },
    {
      "cell_type": "code",
      "metadata": {
        "id": "C_oNq--KnyqK"
      },
      "source": [
        "root = ET.fromstring(raw_text)\n",
        "\n",
        "text = \"\"\n",
        "\n",
        "with open('dataset.txt', 'w') as f:\n",
        "  for txt_el in root.findall('item/text'):\n",
        "    raw = txt_el.text\n",
        "    new = ' '.join(raw.replace('\\n', ' $ ').split()).lower() + '\\n'\n",
        "    # f.write(new)\n",
        "    text += new"
      ],
      "execution_count": 37,
      "outputs": []
    },
    {
      "cell_type": "code",
      "metadata": {
        "id": "WeSozTga5dA0"
      },
      "source": [
        "def create_seq(text, seq_len=20):\n",
        "  seqs = []\n",
        "\n",
        "  split = text.split()\n",
        "  \n",
        "  if len(split) <= seq_len:\n",
        "    return [split]\n",
        "  \n",
        "  seq = split[:seq_len+1]\n",
        "  seqs.append(seq)\n",
        "  for i in range(seq_len, len(split)):\n",
        "    seq.append(split[i])\n",
        "    seq.pop(0)\n",
        "    seqs.append(seq)\n",
        "  \n",
        "  return seqs"
      ],
      "execution_count": 46,
      "outputs": []
    },
    {
      "cell_type": "code",
      "metadata": {
        "colab": {
          "base_uri": "https://localhost:8080/"
        },
        "id": "EvdMEmex6ah1",
        "outputId": "a55af067-0993-4c03-afd2-61e4bac98864"
      },
      "source": [
        "print(len(text.split('\\n')))\n",
        "seqs = [create_seq(line) for line in text.split('\\n')]\n",
        "\n",
        "seqs = sum(seqs, [])\n",
        "\n",
        "len(seqs)"
      ],
      "execution_count": 47,
      "outputs": [
        {
          "output_type": "stream",
          "text": [
            "16695\n"
          ],
          "name": "stdout"
        },
        {
          "output_type": "execute_result",
          "data": {
            "text/plain": [
              "2339931"
            ]
          },
          "metadata": {
            "tags": []
          },
          "execution_count": 47
        }
      ]
    },
    {
      "cell_type": "code",
      "metadata": {
        "colab": {
          "base_uri": "https://localhost:8080/"
        },
        "id": "xU3usfx3Bksg",
        "outputId": "f8ef5a43-a524-4945-f9e3-f85079cf3cec"
      },
      "source": [
        "x, y = [], []\n",
        "\n",
        "print(seqs[0])\n",
        "\n",
        "for seq in seqs:\n",
        "  x.append(seq[:-1])\n",
        "  y.append(seq[1:])"
      ],
      "execution_count": 48,
      "outputs": [
        {
          "output_type": "stream",
          "text": [
            "['над', 'тихой', 'прозрачной', 'рекой', 'рекой', '$', 'он', 'с', 'удой', 'беспечно', '$', 'сидел', '$', 'и', 'думой', 'сердечной', '$', 'к', 'прошедшему', 'счастью', 'летел.']\n"
          ],
          "name": "stdout"
        }
      ]
    },
    {
      "cell_type": "code",
      "metadata": {
        "id": "4kJJ_ZshCFlH"
      },
      "source": [
        "int2token = {}\n",
        "token2int = {}\n",
        "k = 0\n",
        "\n",
        "for word in set(text.split()):\n",
        "  int2token[k] = word\n",
        "  token2int[word] = k\n",
        "  k += 1"
      ],
      "execution_count": 49,
      "outputs": []
    },
    {
      "cell_type": "code",
      "metadata": {
        "colab": {
          "base_uri": "https://localhost:8080/"
        },
        "id": "e-BheOwsCINy",
        "outputId": "f278ce94-a288-4501-fc5a-3f908bd840b0"
      },
      "source": [
        "vocab_size = len(int2token)\n",
        "vocab_size"
      ],
      "execution_count": 50,
      "outputs": [
        {
          "output_type": "execute_result",
          "data": {
            "text/plain": [
              "324980"
            ]
          },
          "metadata": {
            "tags": []
          },
          "execution_count": 50
        }
      ]
    },
    {
      "cell_type": "code",
      "metadata": {
        "id": "hk2wsBPbGTIT"
      },
      "source": [
        "def int_seq(seq):\n",
        "  return [token2int[i] for i in seq]"
      ],
      "execution_count": 51,
      "outputs": []
    },
    {
      "cell_type": "code",
      "metadata": {
        "colab": {
          "base_uri": "https://localhost:8080/"
        },
        "id": "bhswKNyUG3zB",
        "outputId": "91e4d573-b837-4c8b-c58f-cc9fe369f186"
      },
      "source": [
        "import numpy as np\n",
        "\n",
        "x_int = np.array([int_seq(i) for i in x])\n",
        "y_int = np.array([int_seq(i) for i in y])"
      ],
      "execution_count": 52,
      "outputs": [
        {
          "output_type": "stream",
          "text": [
            "/usr/local/lib/python3.7/dist-packages/ipykernel_launcher.py:3: VisibleDeprecationWarning: Creating an ndarray from ragged nested sequences (which is a list-or-tuple of lists-or-tuples-or ndarrays with different lengths or shapes) is deprecated. If you meant to do this, you must specify 'dtype=object' when creating the ndarray\n",
            "  This is separate from the ipykernel package so we can avoid doing imports until\n",
            "/usr/local/lib/python3.7/dist-packages/ipykernel_launcher.py:4: VisibleDeprecationWarning: Creating an ndarray from ragged nested sequences (which is a list-or-tuple of lists-or-tuples-or ndarrays with different lengths or shapes) is deprecated. If you meant to do this, you must specify 'dtype=object' when creating the ndarray\n",
            "  after removing the cwd from sys.path.\n"
          ],
          "name": "stderr"
        }
      ]
    },
    {
      "cell_type": "code",
      "metadata": {
        "colab": {
          "base_uri": "https://localhost:8080/"
        },
        "id": "bttBZ2kSHJp9",
        "outputId": "a25890eb-9f1e-43fc-e25e-f87dad76c8fb"
      },
      "source": [
        "print(x[0])\n",
        "print(int_seq(x[0]))\n",
        "print(x_int[0])"
      ],
      "execution_count": 53,
      "outputs": [
        {
          "output_type": "stream",
          "text": [
            "['над', 'тихой', 'прозрачной', 'рекой', 'рекой', '$', 'он', 'с', 'удой', 'беспечно', '$', 'сидел', '$', 'и', 'думой', 'сердечной', '$', 'к', 'прошедшему', 'счастью']\n",
            "[197374, 259842, 111921, 163082, 163082, 212315, 58276, 303824, 314251, 77691, 212315, 303202, 212315, 2569, 15777, 39861, 212315, 198838, 227989, 92140]\n",
            "[197374, 259842, 111921, 163082, 163082, 212315, 58276, 303824, 314251, 77691, 212315, 303202, 212315, 2569, 15777, 39861, 212315, 198838, 227989, 92140]\n"
          ],
          "name": "stdout"
        }
      ]
    }
  ]
}