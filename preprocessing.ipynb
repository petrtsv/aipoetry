{
  "nbformat": 4,
  "nbformat_minor": 0,
  "metadata": {
    "colab": {
      "name": "preprocessing.ipynb",
      "provenance": [],
      "collapsed_sections": [],
      "authorship_tag": "ABX9TyMAcUPemC+P4+OGHVpqKB6M",
      "include_colab_link": true
    },
    "kernelspec": {
      "name": "python3",
      "display_name": "Python 3"
    },
    "language_info": {
      "name": "python"
    }
  },
  "cells": [
    {
      "cell_type": "markdown",
      "metadata": {
        "id": "view-in-github",
        "colab_type": "text"
      },
      "source": [
        "<a href=\"https://colab.research.google.com/github/petrtsv/aipoetry/blob/main/preprocessing.ipynb\" target=\"_parent\"><img src=\"https://colab.research.google.com/assets/colab-badge.svg\" alt=\"Open In Colab\"/></a>"
      ]
    },
    {
      "cell_type": "code",
      "metadata": {
        "id": "Cv2kfyA0EUza"
      },
      "source": [
        "import requests\n",
        "\n",
        "res = requests.get('https://raw.githubusercontent.com/IlyaGusev/PoetryCorpus/master/datasets/corpus/all.xml')\n",
        "\n",
        "raw_text = res.text"
      ],
      "execution_count": null,
      "outputs": []
    },
    {
      "cell_type": "code",
      "metadata": {
        "id": "ZN70jzQ4oqQE"
      },
      "source": [
        "import xml.etree.ElementTree as ET"
      ],
      "execution_count": null,
      "outputs": []
    },
    {
      "cell_type": "code",
      "metadata": {
        "id": "J-ZfRAl_COBo"
      },
      "source": [
        "# длина последовательности\n",
        "seq_len = 10"
      ],
      "execution_count": null,
      "outputs": []
    },
    {
      "cell_type": "code",
      "metadata": {
        "id": "C_oNq--KnyqK"
      },
      "source": [
        "import re\n",
        "\n",
        "root = ET.fromstring(raw_text)\n",
        "\n",
        "text = []\n",
        "\n",
        "with open('filtred_lines.txt', 'w') as f:\n",
        "  for txt_el in root.findall('item/text'):\n",
        "    raw = txt_el.text\n",
        "    raw = '\\n'.join(raw.split('\\n')[2:])\n",
        "    processed = re.sub('[^а-яА-ЯёЁ \\n]', '', raw).lower().replace('ё', 'е').split('\\n')\n",
        "    # print(raw)\n",
        "    # print(processed)\n",
        "    for line in processed:\n",
        "      proc_line = (line.split()+['$'])[::-1]\n",
        "      text.append(' '.join(proc_line))\n",
        "  text = list(set(text))\n",
        "  text = [line for line in text if len(line.split()) >= seq_len]\n",
        "  f.write('\\n'.join(text))"
      ],
      "execution_count": null,
      "outputs": []
    },
    {
      "cell_type": "code",
      "metadata": {
        "id": "WeSozTga5dA0"
      },
      "source": [
        "def create_seq(text):\n",
        "  seqs = []\n",
        "\n",
        "  split = text.split()\n",
        "\n",
        "  seq = split[:seq_len]\n",
        "  seqs.append(seq.copy())\n",
        "  for i in range(seq_len, len(split)):\n",
        "    seq.append(split[i])\n",
        "    seq.pop(0)\n",
        "    seqs.append(seq.copy())\n",
        "  # print(seq[0])\n",
        "  return seqs"
      ],
      "execution_count": null,
      "outputs": []
    },
    {
      "cell_type": "code",
      "metadata": {
        "colab": {
          "base_uri": "https://localhost:8080/"
        },
        "id": "jXTCJuIxOvam",
        "outputId": "e8ed2b66-9ced-40d5-8386-389c48b49420"
      },
      "source": [
        "print(text[-1])"
      ],
      "execution_count": null,
      "outputs": [
        {
          "output_type": "stream",
          "text": [
            "$ темя безволосое слегка мне щекоти тем меж же ты\n"
          ],
          "name": "stdout"
        }
      ]
    },
    {
      "cell_type": "code",
      "metadata": {
        "colab": {
          "base_uri": "https://localhost:8080/"
        },
        "id": "EvdMEmex6ah1",
        "outputId": "cfc98d16-9d6a-4395-d45f-220f6ebd2c32"
      },
      "source": [
        "from tqdm import tqdm\n",
        "\n",
        "seqs = [create_seq(line) for line in tqdm(text)]\n",
        "print(\"sequences generation success\")\n",
        "# seqs = sum(seqs, [])\n",
        "new_seqs = []\n",
        "for i in seqs:\n",
        "  new_seqs += i\n",
        "seqs = new_seqs\n",
        "seqs = [' '.join(seq) for seq in seqs]\n",
        "with open('sequences.txt', 'w') as f:\n",
        "  f.write('\\n'.join(seqs))"
      ],
      "execution_count": null,
      "outputs": [
        {
          "output_type": "stream",
          "text": [
            "100%|██████████| 4726/4726 [00:00<00:00, 239593.40it/s]"
          ],
          "name": "stderr"
        },
        {
          "output_type": "stream",
          "text": [
            "sequences generation success\n"
          ],
          "name": "stdout"
        },
        {
          "output_type": "stream",
          "text": [
            "\n"
          ],
          "name": "stderr"
        }
      ]
    },
    {
      "cell_type": "code",
      "metadata": {
        "id": "TdVt3ugHQzf9"
      },
      "source": [
        "print(seqs[:100])"
      ],
      "execution_count": null,
      "outputs": []
    }
  ]
}