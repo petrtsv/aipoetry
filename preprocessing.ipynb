{
  "nbformat": 4,
  "nbformat_minor": 0,
  "metadata": {
    "colab": {
      "name": "preprocessing.ipynb",
      "provenance": [],
      "collapsed_sections": [],
      "authorship_tag": "ABX9TyPq1IJE/RoxQkT5pJRe6fMt",
      "include_colab_link": true
    },
    "kernelspec": {
      "name": "python3",
      "display_name": "Python 3"
    },
    "language_info": {
      "name": "python"
    }
  },
  "cells": [
    {
      "cell_type": "markdown",
      "metadata": {
        "id": "view-in-github",
        "colab_type": "text"
      },
      "source": [
        "<a href=\"https://colab.research.google.com/github/petrtsv/aipoetry/blob/main/preprocessing.ipynb\" target=\"_parent\"><img src=\"https://colab.research.google.com/assets/colab-badge.svg\" alt=\"Open In Colab\"/></a>"
      ]
    },
    {
      "cell_type": "code",
      "metadata": {
        "id": "Cv2kfyA0EUza"
      },
      "source": [
        "import requests\n",
        "\n",
        "res = requests.get('https://raw.githubusercontent.com/IlyaGusev/PoetryCorpus/master/datasets/corpus/all.xml')\n",
        "\n",
        "raw_text = res.text"
      ],
      "execution_count": 14,
      "outputs": []
    },
    {
      "cell_type": "code",
      "metadata": {
        "id": "ZN70jzQ4oqQE"
      },
      "source": [
        "import xml.etree.ElementTree as ET"
      ],
      "execution_count": 15,
      "outputs": []
    },
    {
      "cell_type": "code",
      "metadata": {
        "id": "C_oNq--KnyqK"
      },
      "source": [
        "root = ET.fromstring(raw_text)\n",
        "\n",
        "text = \"\"\n",
        "\n",
        "with open('dataset.txt', 'w') as f:\n",
        "  for txt_el in root.findall('item/text'):\n",
        "    raw = txt_el.text\n",
        "    new = ' '.join(raw.replace('\\n', ' $ ').split()).lower() + '\\n'\n",
        "    # f.write(new)\n",
        "    text += new"
      ],
      "execution_count": 16,
      "outputs": []
    },
    {
      "cell_type": "code",
      "metadata": {
        "id": "WeSozTga5dA0"
      },
      "source": [
        "seq_len = 20\n",
        "def create_seq(text):\n",
        "  seqs = []\n",
        "\n",
        "  split = text.split()\n",
        "  \n",
        "  if len(split) <= seq_len:\n",
        "    return [split]\n",
        "  \n",
        "  seq = split[:seq_len]\n",
        "  seqs.append(seq)\n",
        "  for i in range(seq_len, len(split)):\n",
        "    seq.append(split[i])\n",
        "    seq.pop(0)\n",
        "    seqs.append(seq)\n",
        "  \n",
        "  return seqs"
      ],
      "execution_count": 17,
      "outputs": []
    },
    {
      "cell_type": "code",
      "metadata": {
        "colab": {
          "base_uri": "https://localhost:8080/"
        },
        "id": "EvdMEmex6ah1",
        "outputId": "ba9effc3-2c56-4fa8-c383-e05e569ba679"
      },
      "source": [
        "print(len(text.split('\\n')))\n",
        "seqs = [create_seq(line) for line in text.split('\\n')]\n",
        "\n",
        "seqs = sum(seqs, [])\n",
        "\n",
        "len(seqs)"
      ],
      "execution_count": 18,
      "outputs": [
        {
          "output_type": "stream",
          "text": [
            "16695\n"
          ],
          "name": "stdout"
        },
        {
          "output_type": "execute_result",
          "data": {
            "text/plain": [
              "2339931"
            ]
          },
          "metadata": {
            "tags": []
          },
          "execution_count": 18
        }
      ]
    },
    {
      "cell_type": "code",
      "metadata": {
        "colab": {
          "base_uri": "https://localhost:8080/"
        },
        "id": "xU3usfx3Bksg",
        "outputId": "c38ec248-69ec-4122-a9c1-6ed3f23b4fe5"
      },
      "source": [
        "x, y = [], []\n",
        "\n",
        "print(seqs[0])\n",
        "\n",
        "for seq in seqs:\n",
        "  if len(seq) < seq_len:\n",
        "    continue\n",
        "  x.append(seq[:-1])\n",
        "  y.append(seq[1:])"
      ],
      "execution_count": 19,
      "outputs": [
        {
          "output_type": "stream",
          "text": [
            "['над', 'тихой', 'прозрачной', 'рекой', '$', 'он', 'с', 'удой', 'беспечно', '$', 'сидел', '$', 'и', 'думой', 'сердечной', '$', 'к', 'прошедшему', 'счастью', 'летел.']\n"
          ],
          "name": "stdout"
        }
      ]
    },
    {
      "cell_type": "code",
      "metadata": {
        "id": "4kJJ_ZshCFlH"
      },
      "source": [
        "int2token = {}\n",
        "token2int = {}\n",
        "k = 0\n",
        "\n",
        "for word in set(text.split()):\n",
        "  int2token[k] = word\n",
        "  token2int[word] = k\n",
        "  k += 1"
      ],
      "execution_count": 20,
      "outputs": []
    },
    {
      "cell_type": "code",
      "metadata": {
        "colab": {
          "base_uri": "https://localhost:8080/"
        },
        "id": "e-BheOwsCINy",
        "outputId": "9fc56f29-0f10-4082-9677-bf1d182f4cbe"
      },
      "source": [
        "vocab_size = len(int2token)\n",
        "vocab_size"
      ],
      "execution_count": 21,
      "outputs": [
        {
          "output_type": "execute_result",
          "data": {
            "text/plain": [
              "324980"
            ]
          },
          "metadata": {
            "tags": []
          },
          "execution_count": 21
        }
      ]
    },
    {
      "cell_type": "code",
      "metadata": {
        "id": "hk2wsBPbGTIT"
      },
      "source": [
        "def int_seq(seq):\n",
        "  return [token2int[i] for i in seq]"
      ],
      "execution_count": 22,
      "outputs": []
    },
    {
      "cell_type": "code",
      "metadata": {
        "id": "bhswKNyUG3zB"
      },
      "source": [
        "import numpy as np\n",
        "\n",
        "x_int = np.array([int_seq(i) for i in x])\n",
        "y_int = np.array([int_seq(i) for i in y])"
      ],
      "execution_count": 25,
      "outputs": []
    },
    {
      "cell_type": "code",
      "metadata": {
        "colab": {
          "base_uri": "https://localhost:8080/"
        },
        "id": "bttBZ2kSHJp9",
        "outputId": "6afce1a8-6c3f-4a82-f729-5ed41c61b0b0"
      },
      "source": [
        "print(x[0])\n",
        "print(int_seq(x[0]))\n",
        "print(x_int[0])"
      ],
      "execution_count": 24,
      "outputs": [
        {
          "output_type": "stream",
          "text": [
            "['над', 'тихой', 'прозрачной', 'рекой', '$', 'он', 'с', 'удой', 'беспечно', '$', 'сидел', '$', 'и', 'думой', 'сердечной', '$', 'к', 'прошедшему', 'счастью']\n",
            "[203554, 231520, 271550, 217774, 74679, 71474, 291316, 21430, 316676, 74679, 32197, 74679, 324109, 112185, 159010, 74679, 74892, 218985, 184703]\n",
            "[203554 231520 271550 217774  74679  71474 291316  21430 316676  74679\n",
            "  32197  74679 324109 112185 159010  74679  74892 218985 184703]\n"
          ],
          "name": "stdout"
        }
      ]
    }
  ]
}