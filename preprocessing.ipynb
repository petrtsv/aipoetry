{
  "nbformat": 4,
  "nbformat_minor": 0,
  "metadata": {
    "colab": {
      "name": "preprocessing.ipynb",
      "provenance": [],
      "authorship_tag": "ABX9TyNaB4VuLVGsm86IFszRwEv7",
      "include_colab_link": true
    },
    "kernelspec": {
      "name": "python3",
      "display_name": "Python 3"
    },
    "language_info": {
      "name": "python"
    }
  },
  "cells": [
    {
      "cell_type": "markdown",
      "metadata": {
        "id": "view-in-github",
        "colab_type": "text"
      },
      "source": [
        "<a href=\"https://colab.research.google.com/github/petrtsv/aipoetry/blob/main/preprocessing.ipynb\" target=\"_parent\"><img src=\"https://colab.research.google.com/assets/colab-badge.svg\" alt=\"Open In Colab\"/></a>"
      ]
    },
    {
      "cell_type": "code",
      "metadata": {
        "id": "Cv2kfyA0EUza"
      },
      "source": [
        "import requests\n",
        "\n",
        "res = requests.get('https://raw.githubusercontent.com/IlyaGusev/PoetryCorpus/master/datasets/corpus/all.xml')\n",
        "\n",
        "raw_text = res.text"
      ],
      "execution_count": 2,
      "outputs": []
    },
    {
      "cell_type": "code",
      "metadata": {
        "id": "ZN70jzQ4oqQE"
      },
      "source": [
        "import xml.etree.ElementTree as ET"
      ],
      "execution_count": 3,
      "outputs": []
    },
    {
      "cell_type": "code",
      "metadata": {
        "id": "C_oNq--KnyqK"
      },
      "source": [
        "root = ET.fromstring(raw_text)\n",
        "\n",
        "text = \"\"\n",
        "\n",
        "with open('dataset.txt', 'w') as f:\n",
        "  for txt_el in root.findall('item/text'):\n",
        "    raw = txt_el.text\n",
        "    new = ' '.join(raw.replace('\\n', ' $ ').split()).lower() + '\\n'\n",
        "    # f.write(new)\n",
        "    text += new"
      ],
      "execution_count": 4,
      "outputs": []
    },
    {
      "cell_type": "code",
      "metadata": {
        "id": "WeSozTga5dA0"
      },
      "source": [
        "seq_len = 20\n",
        "def create_seq(text):\n",
        "  seqs = []\n",
        "\n",
        "  split = text.split()\n",
        "  \n",
        "  if len(split) <= seq_len:\n",
        "    return [split]\n",
        "  \n",
        "  seq = split[:seq_len+1]\n",
        "  seqs.append(seq)\n",
        "  for i in range(seq_len, len(split)):\n",
        "    seq.append(split[i])\n",
        "    seq.pop(0)\n",
        "    seqs.append(seq)\n",
        "  \n",
        "  return seqs"
      ],
      "execution_count": 5,
      "outputs": []
    },
    {
      "cell_type": "code",
      "metadata": {
        "colab": {
          "base_uri": "https://localhost:8080/"
        },
        "id": "EvdMEmex6ah1",
        "outputId": "96f74635-fec9-457b-b796-d70ea36ee15b"
      },
      "source": [
        "print(len(text.split('\\n')))\n",
        "seqs = [create_seq(line) for line in text.split('\\n')]\n",
        "\n",
        "seqs = sum(seqs, [])\n",
        "\n",
        "len(seqs)"
      ],
      "execution_count": 6,
      "outputs": [
        {
          "output_type": "stream",
          "text": [
            "16695\n"
          ],
          "name": "stdout"
        },
        {
          "output_type": "execute_result",
          "data": {
            "text/plain": [
              "2339931"
            ]
          },
          "metadata": {
            "tags": []
          },
          "execution_count": 6
        }
      ]
    },
    {
      "cell_type": "code",
      "metadata": {
        "colab": {
          "base_uri": "https://localhost:8080/"
        },
        "id": "xU3usfx3Bksg",
        "outputId": "e15a0270-a2cd-490b-ca09-0fea017c161a"
      },
      "source": [
        "x, y = [], []\n",
        "\n",
        "print(seqs[0])\n",
        "\n",
        "for seq in seqs:\n",
        "  if len(seq) < seq_len:\n",
        "    continue\n",
        "  x.append(seq[:-1])\n",
        "  y.append(seq[1:])"
      ],
      "execution_count": 8,
      "outputs": [
        {
          "output_type": "stream",
          "text": [
            "['над', 'тихой', 'прозрачной', 'рекой', 'рекой', '$', 'он', 'с', 'удой', 'беспечно', '$', 'сидел', '$', 'и', 'думой', 'сердечной', '$', 'к', 'прошедшему', 'счастью', 'летел.']\n"
          ],
          "name": "stdout"
        }
      ]
    },
    {
      "cell_type": "code",
      "metadata": {
        "id": "4kJJ_ZshCFlH"
      },
      "source": [
        "int2token = {}\n",
        "token2int = {}\n",
        "k = 0\n",
        "\n",
        "for word in set(text.split()):\n",
        "  int2token[k] = word\n",
        "  token2int[word] = k\n",
        "  k += 1"
      ],
      "execution_count": null,
      "outputs": []
    },
    {
      "cell_type": "code",
      "metadata": {
        "id": "e-BheOwsCINy"
      },
      "source": [
        "vocab_size = len(int2token)\n",
        "vocab_size"
      ],
      "execution_count": null,
      "outputs": []
    },
    {
      "cell_type": "code",
      "metadata": {
        "id": "hk2wsBPbGTIT"
      },
      "source": [
        "def int_seq(seq):\n",
        "  return [token2int[i] for i in seq]"
      ],
      "execution_count": null,
      "outputs": []
    },
    {
      "cell_type": "code",
      "metadata": {
        "id": "bhswKNyUG3zB"
      },
      "source": [
        "import numpy as np\n",
        "\n",
        "x_int = np.array([int_seq(i) for i in x])\n",
        "y_int = np.array([int_seq(i) for i in y])"
      ],
      "execution_count": null,
      "outputs": []
    },
    {
      "cell_type": "code",
      "metadata": {
        "id": "bttBZ2kSHJp9"
      },
      "source": [
        "print(x[0])\n",
        "print(int_seq(x[0]))\n",
        "print(x_int[0])"
      ],
      "execution_count": null,
      "outputs": []
    }
  ]
}