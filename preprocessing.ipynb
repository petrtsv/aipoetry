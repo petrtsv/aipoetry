{
  "nbformat": 4,
  "nbformat_minor": 0,
  "metadata": {
    "colab": {
      "name": "preprocessing.ipynb",
      "provenance": [],
      "collapsed_sections": [],
      "authorship_tag": "ABX9TyN55pDulTvhCF0UKLoag6/n",
      "include_colab_link": true
    },
    "kernelspec": {
      "name": "python3",
      "display_name": "Python 3"
    },
    "language_info": {
      "name": "python"
    }
  },
  "cells": [
    {
      "cell_type": "markdown",
      "metadata": {
        "id": "view-in-github",
        "colab_type": "text"
      },
      "source": [
        "<a href=\"https://colab.research.google.com/github/petrtsv/aipoetry/blob/main/preprocessing.ipynb\" target=\"_parent\"><img src=\"https://colab.research.google.com/assets/colab-badge.svg\" alt=\"Open In Colab\"/></a>"
      ]
    },
    {
      "cell_type": "code",
      "metadata": {
        "id": "Cv2kfyA0EUza"
      },
      "source": [
        "import requests\n",
        "\n",
        "res = requests.get('https://raw.githubusercontent.com/IlyaGusev/PoetryCorpus/master/datasets/corpus/all.xml')\n",
        "\n",
        "raw_text = res.text"
      ],
      "execution_count": null,
      "outputs": []
    },
    {
      "cell_type": "code",
      "metadata": {
        "id": "ZN70jzQ4oqQE"
      },
      "source": [
        "import xml.etree.ElementTree as ET"
      ],
      "execution_count": null,
      "outputs": []
    },
    {
      "cell_type": "code",
      "metadata": {
        "id": "J-ZfRAl_COBo"
      },
      "source": [
        "# длина последовательности\n",
        "seq_len = 5"
      ],
      "execution_count": null,
      "outputs": []
    },
    {
      "cell_type": "code",
      "metadata": {
        "id": "C_oNq--KnyqK"
      },
      "source": [
        "import re\n",
        "\n",
        "root = ET.fromstring(raw_text)\n",
        "\n",
        "text = []\n",
        "\n",
        "with open('filtred_lines.txt', 'w') as f:\n",
        "  for txt_el in root.findall('item/text'):\n",
        "    raw = txt_el.text\n",
        "    raw = '\\n'.join(raw.split('\\n')[2:])\n",
        "    processed = re.sub('[^а-яА-Я \\n]', '', raw).lower().replace('ё', 'е').split('\\n')\n",
        "    # print(raw)\n",
        "    # print(processed)\n",
        "    for line in processed:\n",
        "      proc_line = (line.split()+['$'])[::-1]\n",
        "      text.append(' '.join(proc_line))\n",
        "  text = list(set(text))\n",
        "  text = [line for line in text if len(line.split()) >= seq_len]\n",
        "  f.write('\\n'.join(text))"
      ],
      "execution_count": null,
      "outputs": []
    },
    {
      "cell_type": "code",
      "metadata": {
        "id": "WeSozTga5dA0"
      },
      "source": [
        "def create_seq(text):\n",
        "  seqs = []\n",
        "\n",
        "  split = text.split()\n",
        "\n",
        "  seq = split[:seq_len]\n",
        "  seqs.append(seq.copy())\n",
        "  for i in range(seq_len, len(split)):\n",
        "    seq.append(split[i])\n",
        "    seq.pop(0)\n",
        "    seqs.append(seq.copy())\n",
        "  # print(seq[0])\n",
        "  return seqs"
      ],
      "execution_count": null,
      "outputs": []
    },
    {
      "cell_type": "code",
      "metadata": {
        "colab": {
          "base_uri": "https://localhost:8080/"
        },
        "id": "jXTCJuIxOvam",
        "outputId": "9903038e-95bd-44ce-9cc6-f5b1ed03a1a0"
      },
      "source": [
        "print(text[-1])"
      ],
      "execution_count": null,
      "outputs": [
        {
          "output_type": "stream",
          "text": [
            "$ звонче забьются нм на колокольчики и\n"
          ],
          "name": "stdout"
        }
      ]
    },
    {
      "cell_type": "code",
      "metadata": {
        "colab": {
          "base_uri": "https://localhost:8080/"
        },
        "id": "EvdMEmex6ah1",
        "outputId": "cfd9be08-729b-4ab1-97fd-1e5543324210"
      },
      "source": [
        "from tqdm import tqdm\n",
        "\n",
        "seqs = [create_seq(line) for line in tqdm(text)]\n",
        "print(\"sequences generation success\")\n",
        "# seqs = sum(seqs, [])\n",
        "new_seqs = []\n",
        "for i in seqs:\n",
        "  new_seqs += i\n",
        "seqs = new_seqs\n",
        "seqs = [' '.join(seq) for seq in seqs]\n",
        "with open('sequences.txt', 'w') as f:\n",
        "  f.write('\\n'.join(seqs))"
      ],
      "execution_count": null,
      "outputs": [
        {
          "output_type": "stream",
          "text": [
            "100%|██████████| 307121/307121 [00:03<00:00, 99993.20it/s] \n"
          ],
          "name": "stderr"
        },
        {
          "output_type": "stream",
          "text": [
            "sequences generation success\n"
          ],
          "name": "stdout"
        }
      ]
    },
    {
      "cell_type": "code",
      "metadata": {
        "colab": {
          "base_uri": "https://localhost:8080/"
        },
        "id": "TdVt3ugHQzf9",
        "outputId": "cb09cd66-8550-4933-dde5-96318f576c57"
      },
      "source": [
        "print(seqs[:100])"
      ],
      "execution_count": null,
      "outputs": [
        {
          "output_type": "stream",
          "text": [
            "['$ этом об тебя просить', 'этом об тебя просить алчности', 'об тебя просить алчности нет', '$ сыном станет мне что', 'сыном станет мне что а', '$ всех изо как солдат', 'всех изо как солдат такой', 'изо как солдат такой меня', 'как солдат такой меня из', 'солдат такой меня из а', '$ пятерки жую обрываю сирень', '$ родных станешь не навещать', '$ вновь и вновь верою', 'вновь и вновь верою с', 'и вновь верою с себе', 'вновь верою с себе твердя', '$ ты поставишь себя как', 'ты поставишь себя как и', '$ румяном облаке в горою', 'румяном облаке в горою над', '$ му да му только', 'му да му только он', 'да му только он но', '$ и потери размер только', 'и потери размер только скрыта', '$ беда пришедшая дом в', 'беда пришедшая дом в и', '$ мне ко головою склонись', '$ ней по я ходить', 'ней по я ходить разучился', '$ опять застыли гномы клеточках', 'опять застыли гномы клеточках в', 'застыли гномы клеточках в и', '$ стяжать лавр наши пределы', 'стяжать лавр наши пределы в', '$ жизнь в не жизнь', 'жизнь в не жизнь и', 'в не жизнь и нее', 'не жизнь и нее без', '$ голова звенит света от', 'голова звенит света от солнца', 'звенит света от солнца от', '$ решают дня проблему они', '$ обедали не дети плачут', '$ костюмы деревянные просто или', '$ плодиться вс будут книги', 'плодиться вс будут книги а', '$ шум приветный мил мне', '$ скорчась полог кромешный еще', '$ тьмы и севера от', 'тьмы и севера от ассур', 'и севера от ассур пришел', '$ ухо в мне шушукает', 'ухо в мне шушукает и', '$ крылата любовь говорят пусть', '$ цвели цветы как слова', 'цвели цветы как слова чтоб', 'цветы как слова чтоб хотел', 'как слова чтоб хотел он', '$ канавке в плещутся утки', '$ суда страшного до более', 'суда страшного до более тем', '$ глядя вечером тихим окно', 'глядя вечером тихим окно в', 'вечером тихим окно в и', '$ спас ножик деревянный но', '$ одна журчит река табун', 'одна журчит река табун молчит', '$ поединок соловьев двух это', '$ челом дерзостным спокойным с', '$ пера соколиного око но', '$ нарушив время и пространство', '$ неуют дома что жаль', '$ глядит прошлое в как', 'глядит прошлое в как назад', 'прошлое в как назад и', '$ взорам солнечным по узнается', 'взорам солнечным по узнается боец', '$ мою юность в как', '$ судьбы разгадав не своей', 'судьбы разгадав не своей юноши', 'разгадав не своей юноши пусть', '$ чести собачьей закон конуры', 'чести собачьей закон конуры право', 'собачьей закон конуры право то', '$ стихии милость на отдаются', '$ круг условный разомкну не', '$ враг берегись молись глаза', 'враг берегись молись глаза долу', '$ годится не так нет', 'годится не так нет о', '$ луч солнца падал где', 'луч солнца падал где там', 'солнца падал где там и', '$ боль конечно уж и', '$ берег и ты любил', 'берег и ты любил что', '$ четыре или пять значит', '$ бредни эти за нею', 'бредни эти за нею над']\n"
          ],
          "name": "stdout"
        }
      ]
    }
  ]
}