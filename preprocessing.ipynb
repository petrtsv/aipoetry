{
  "nbformat": 4,
  "nbformat_minor": 0,
  "metadata": {
    "colab": {
      "name": "preprocessing.ipynb",
      "provenance": [],
      "authorship_tag": "ABX9TyM5ucPbYccydWxsBF9IgzBc",
      "include_colab_link": true
    },
    "kernelspec": {
      "name": "python3",
      "display_name": "Python 3"
    },
    "language_info": {
      "name": "python"
    }
  },
  "cells": [
    {
      "cell_type": "markdown",
      "metadata": {
        "id": "view-in-github",
        "colab_type": "text"
      },
      "source": [
        "<a href=\"https://colab.research.google.com/github/petrtsv/aipoetry/blob/main/preprocessing.ipynb\" target=\"_parent\"><img src=\"https://colab.research.google.com/assets/colab-badge.svg\" alt=\"Open In Colab\"/></a>"
      ]
    },
    {
      "cell_type": "code",
      "metadata": {
        "id": "Cv2kfyA0EUza"
      },
      "source": [
        "import requests\n",
        "\n",
        "res = requests.get('https://raw.githubusercontent.com/IlyaGusev/PoetryCorpus/master/datasets/corpus/all.xml')\n",
        "\n",
        "raw_text = res.text"
      ],
      "execution_count": 1,
      "outputs": []
    },
    {
      "cell_type": "code",
      "metadata": {
        "id": "ZN70jzQ4oqQE"
      },
      "source": [
        "import xml.etree.ElementTree as ET"
      ],
      "execution_count": 2,
      "outputs": []
    },
    {
      "cell_type": "code",
      "metadata": {
        "id": "C_oNq--KnyqK"
      },
      "source": [
        "root = ET.fromstring(raw_text)\n",
        "\n",
        "text = \"\"\n",
        "\n",
        "with open('dataset.txt', 'w') as f:\n",
        "  for txt_el in root.findall('item/text'):\n",
        "    raw = txt_el.text\n",
        "    new = ' '.join(raw.replace('\\n', ' $ ').split()).lower() + '\\n'\n",
        "    # f.write(new)\n",
        "    text += new"
      ],
      "execution_count": 3,
      "outputs": []
    },
    {
      "cell_type": "code",
      "metadata": {
        "id": "WeSozTga5dA0"
      },
      "source": [
        "def create_seq(text, seq_len=20):\n",
        "  seqs = []\n",
        "\n",
        "  split = text.split()\n",
        "  \n",
        "  if len(split) <= seq_len:\n",
        "    return [text]\n",
        "  \n",
        "  seq = split[:seq_len+1]\n",
        "  seqs.append(' '.join(seq))\n",
        "  for i in range(seq_len, len(split)):\n",
        "    seq.append(split[i])\n",
        "    seq.pop(0)\n",
        "    seqs.append(' '.join(seq))\n",
        "  \n",
        "  return seqs"
      ],
      "execution_count": 18,
      "outputs": []
    },
    {
      "cell_type": "code",
      "metadata": {
        "colab": {
          "base_uri": "https://localhost:8080/"
        },
        "id": "EvdMEmex6ah1",
        "outputId": "d6d03b4e-b9e3-4b68-abec-3e821db6b311"
      },
      "source": [
        "print(len(text.split('\\n')))\n",
        "seqs = [create_seq(line) for line in text.split('\\n')]\n",
        "\n",
        "seqs = sum(seqs, [])\n",
        "\n",
        "len(seqs)"
      ],
      "execution_count": null,
      "outputs": [
        {
          "output_type": "stream",
          "text": [
            "16695\n"
          ],
          "name": "stdout"
        }
      ]
    },
    {
      "cell_type": "code",
      "metadata": {
        "colab": {
          "base_uri": "https://localhost:8080/",
          "height": 264
        },
        "id": "xU3usfx3Bksg",
        "outputId": "5ae31089-3ea9-4d5a-9bda-24a41df57ce6"
      },
      "source": [
        "x, y = [], []\n",
        "\n",
        "print(seqs[0])\n",
        "\n",
        "for seq in seqs:\n",
        "  x.append(' '.join(seq.split()[:-1]))\n",
        "  y.append(' '.join(seq.split()[1:]))"
      ],
      "execution_count": 16,
      "outputs": [
        {
          "output_type": "stream",
          "text": [
            "['над', 'тихой', 'прозрачной', 'рекой', 'рекой', '$', 'он', 'с', 'удой', 'беспечно', '$', 'сидел', '$', 'и', 'думой', 'сердечной', '$', 'к', 'прошедшему', 'счастью', 'летел.']\n"
          ],
          "name": "stdout"
        },
        {
          "output_type": "error",
          "ename": "AttributeError",
          "evalue": "ignored",
          "traceback": [
            "\u001b[0;31m---------------------------------------------------------------------------\u001b[0m",
            "\u001b[0;31mAttributeError\u001b[0m                            Traceback (most recent call last)",
            "\u001b[0;32m<ipython-input-16-4abc723679fd>\u001b[0m in \u001b[0;36m<module>\u001b[0;34m()\u001b[0m\n\u001b[1;32m      5\u001b[0m \u001b[0;32mfor\u001b[0m \u001b[0mseq\u001b[0m \u001b[0;32min\u001b[0m \u001b[0mseqs\u001b[0m\u001b[0;34m:\u001b[0m\u001b[0;34m\u001b[0m\u001b[0;34m\u001b[0m\u001b[0m\n\u001b[1;32m      6\u001b[0m \u001b[0;34m\u001b[0m\u001b[0m\n\u001b[0;32m----> 7\u001b[0;31m   \u001b[0mx\u001b[0m\u001b[0;34m.\u001b[0m\u001b[0mappend\u001b[0m\u001b[0;34m(\u001b[0m\u001b[0;34m' '\u001b[0m\u001b[0;34m.\u001b[0m\u001b[0mjoin\u001b[0m\u001b[0;34m(\u001b[0m\u001b[0mseq\u001b[0m\u001b[0;34m.\u001b[0m\u001b[0msplit\u001b[0m\u001b[0;34m(\u001b[0m\u001b[0;34m)\u001b[0m\u001b[0;34m[\u001b[0m\u001b[0;34m:\u001b[0m\u001b[0;34m-\u001b[0m\u001b[0;36m1\u001b[0m\u001b[0;34m]\u001b[0m\u001b[0;34m)\u001b[0m\u001b[0;34m)\u001b[0m\u001b[0;34m\u001b[0m\u001b[0;34m\u001b[0m\u001b[0m\n\u001b[0m\u001b[1;32m      8\u001b[0m   \u001b[0my\u001b[0m\u001b[0;34m.\u001b[0m\u001b[0mappend\u001b[0m\u001b[0;34m(\u001b[0m\u001b[0;34m' '\u001b[0m\u001b[0;34m.\u001b[0m\u001b[0mjoin\u001b[0m\u001b[0;34m(\u001b[0m\u001b[0mseq\u001b[0m\u001b[0;34m.\u001b[0m\u001b[0msplit\u001b[0m\u001b[0;34m(\u001b[0m\u001b[0;34m)\u001b[0m\u001b[0;34m[\u001b[0m\u001b[0;36m1\u001b[0m\u001b[0;34m:\u001b[0m\u001b[0;34m]\u001b[0m\u001b[0;34m)\u001b[0m\u001b[0;34m)\u001b[0m\u001b[0;34m\u001b[0m\u001b[0;34m\u001b[0m\u001b[0m\n",
            "\u001b[0;31mAttributeError\u001b[0m: 'list' object has no attribute 'split'"
          ]
        }
      ]
    },
    {
      "cell_type": "code",
      "metadata": {
        "id": "4kJJ_ZshCFlH"
      },
      "source": [
        "int2token = {}\n",
        "token2int = {}\n",
        "k = 0\n",
        "\n",
        "for word in set(text.split()):\n",
        "  int2token[k] = word\n",
        "  token2int[word] = k\n",
        "  k += 1"
      ],
      "execution_count": 10,
      "outputs": []
    },
    {
      "cell_type": "code",
      "metadata": {
        "colab": {
          "base_uri": "https://localhost:8080/"
        },
        "id": "e-BheOwsCINy",
        "outputId": "986560cc-8aac-414d-9c91-f82149dff699"
      },
      "source": [
        "vocab_size = len(int2token)\n",
        "vocab_size"
      ],
      "execution_count": 11,
      "outputs": [
        {
          "output_type": "execute_result",
          "data": {
            "text/plain": [
              "324980"
            ]
          },
          "metadata": {
            "tags": []
          },
          "execution_count": 11
        }
      ]
    },
    {
      "cell_type": "code",
      "metadata": {
        "id": "hk2wsBPbGTIT"
      },
      "source": [
        "def int_seq(seq):\n",
        "  return [token2int[i] for i in seq.split()]"
      ],
      "execution_count": null,
      "outputs": []
    },
    {
      "cell_type": "code",
      "metadata": {
        "id": "bhswKNyUG3zB"
      },
      "source": [
        "import numpy as np\n",
        "\n",
        "x_int = np.array([int_seq(i) for i in x])\n",
        "y_int = np.array([int_seq(i) for i in y])"
      ],
      "execution_count": null,
      "outputs": []
    },
    {
      "cell_type": "code",
      "metadata": {
        "id": "bttBZ2kSHJp9"
      },
      "source": [
        ""
      ],
      "execution_count": null,
      "outputs": []
    }
  ]
}