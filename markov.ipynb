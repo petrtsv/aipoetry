{
  "nbformat": 4,
  "nbformat_minor": 0,
  "metadata": {
    "colab": {
      "name": "markov.ipynb",
      "provenance": [],
      "collapsed_sections": [],
      "authorship_tag": "ABX9TyOwEKDQkeMvfbI3Xr8JJD0P",
      "include_colab_link": true
    },
    "kernelspec": {
      "display_name": "Python 3",
      "name": "python3"
    },
    "language_info": {
      "name": "python"
    }
  },
  "cells": [
    {
      "cell_type": "markdown",
      "metadata": {
        "id": "view-in-github",
        "colab_type": "text"
      },
      "source": [
        "<a href=\"https://colab.research.google.com/github/petrtsv/aipoetry/blob/main/markov.ipynb\" target=\"_parent\"><img src=\"https://colab.research.google.com/assets/colab-badge.svg\" alt=\"Open In Colab\"/></a>"
      ]
    },
    {
      "cell_type": "code",
      "metadata": {
        "colab": {
          "base_uri": "https://localhost:8080/"
        },
        "id": "jj4dZTvRF48O",
        "outputId": "4d3a3d14-b94b-471f-dd5b-d7cd8ae638ba"
      },
      "source": [
        "!pip install markovify"
      ],
      "execution_count": 1,
      "outputs": [
        {
          "output_type": "stream",
          "text": [
            "Requirement already satisfied: markovify in /usr/local/lib/python3.7/dist-packages (0.9.0)\n",
            "Requirement already satisfied: unidecode in /usr/local/lib/python3.7/dist-packages (from markovify) (1.2.0)\n"
          ],
          "name": "stdout"
        }
      ]
    },
    {
      "cell_type": "code",
      "metadata": {
        "id": "eT0TYjYoUVDi",
        "colab": {
          "base_uri": "https://localhost:8080/"
        },
        "outputId": "cc2c6849-6ab7-43b0-bbff-fda2a59ad748"
      },
      "source": [
        "!pip install russtress"
      ],
      "execution_count": 2,
      "outputs": [
        {
          "output_type": "stream",
          "text": [
            "Requirement already satisfied: russtress in /usr/local/lib/python3.7/dist-packages (0.1.4)\n",
            "Requirement already satisfied: numpy in /usr/local/lib/python3.7/dist-packages (from russtress) (1.19.5)\n",
            "Requirement already satisfied: scipy in /usr/local/lib/python3.7/dist-packages (from russtress) (1.4.1)\n",
            "Requirement already satisfied: tensorflow in /usr/local/lib/python3.7/dist-packages (from russtress) (2.4.1)\n",
            "Requirement already satisfied: google-pasta~=0.2 in /usr/local/lib/python3.7/dist-packages (from tensorflow->russtress) (0.2.0)\n",
            "Requirement already satisfied: typing-extensions~=3.7.4 in /usr/local/lib/python3.7/dist-packages (from tensorflow->russtress) (3.7.4.3)\n",
            "Requirement already satisfied: wrapt~=1.12.1 in /usr/local/lib/python3.7/dist-packages (from tensorflow->russtress) (1.12.1)\n",
            "Requirement already satisfied: termcolor~=1.1.0 in /usr/local/lib/python3.7/dist-packages (from tensorflow->russtress) (1.1.0)\n",
            "Requirement already satisfied: tensorboard~=2.4 in /usr/local/lib/python3.7/dist-packages (from tensorflow->russtress) (2.4.1)\n",
            "Requirement already satisfied: six~=1.15.0 in /usr/local/lib/python3.7/dist-packages (from tensorflow->russtress) (1.15.0)\n",
            "Requirement already satisfied: astunparse~=1.6.3 in /usr/local/lib/python3.7/dist-packages (from tensorflow->russtress) (1.6.3)\n",
            "Requirement already satisfied: opt-einsum~=3.3.0 in /usr/local/lib/python3.7/dist-packages (from tensorflow->russtress) (3.3.0)\n",
            "Requirement already satisfied: h5py~=2.10.0 in /usr/local/lib/python3.7/dist-packages (from tensorflow->russtress) (2.10.0)\n",
            "Requirement already satisfied: flatbuffers~=1.12.0 in /usr/local/lib/python3.7/dist-packages (from tensorflow->russtress) (1.12)\n",
            "Requirement already satisfied: keras-preprocessing~=1.1.2 in /usr/local/lib/python3.7/dist-packages (from tensorflow->russtress) (1.1.2)\n",
            "Requirement already satisfied: gast==0.3.3 in /usr/local/lib/python3.7/dist-packages (from tensorflow->russtress) (0.3.3)\n",
            "Requirement already satisfied: tensorflow-estimator<2.5.0,>=2.4.0 in /usr/local/lib/python3.7/dist-packages (from tensorflow->russtress) (2.4.0)\n",
            "Requirement already satisfied: wheel~=0.35 in /usr/local/lib/python3.7/dist-packages (from tensorflow->russtress) (0.36.2)\n",
            "Requirement already satisfied: grpcio~=1.32.0 in /usr/local/lib/python3.7/dist-packages (from tensorflow->russtress) (1.32.0)\n",
            "Requirement already satisfied: absl-py~=0.10 in /usr/local/lib/python3.7/dist-packages (from tensorflow->russtress) (0.12.0)\n",
            "Requirement already satisfied: protobuf>=3.9.2 in /usr/local/lib/python3.7/dist-packages (from tensorflow->russtress) (3.12.4)\n",
            "Requirement already satisfied: requests<3,>=2.21.0 in /usr/local/lib/python3.7/dist-packages (from tensorboard~=2.4->tensorflow->russtress) (2.23.0)\n",
            "Requirement already satisfied: google-auth<2,>=1.6.3 in /usr/local/lib/python3.7/dist-packages (from tensorboard~=2.4->tensorflow->russtress) (1.28.1)\n",
            "Requirement already satisfied: tensorboard-plugin-wit>=1.6.0 in /usr/local/lib/python3.7/dist-packages (from tensorboard~=2.4->tensorflow->russtress) (1.8.0)\n",
            "Requirement already satisfied: werkzeug>=0.11.15 in /usr/local/lib/python3.7/dist-packages (from tensorboard~=2.4->tensorflow->russtress) (1.0.1)\n",
            "Requirement already satisfied: setuptools>=41.0.0 in /usr/local/lib/python3.7/dist-packages (from tensorboard~=2.4->tensorflow->russtress) (56.1.0)\n",
            "Requirement already satisfied: markdown>=2.6.8 in /usr/local/lib/python3.7/dist-packages (from tensorboard~=2.4->tensorflow->russtress) (3.3.4)\n",
            "Requirement already satisfied: google-auth-oauthlib<0.5,>=0.4.1 in /usr/local/lib/python3.7/dist-packages (from tensorboard~=2.4->tensorflow->russtress) (0.4.4)\n",
            "Requirement already satisfied: chardet<4,>=3.0.2 in /usr/local/lib/python3.7/dist-packages (from requests<3,>=2.21.0->tensorboard~=2.4->tensorflow->russtress) (3.0.4)\n",
            "Requirement already satisfied: urllib3!=1.25.0,!=1.25.1,<1.26,>=1.21.1 in /usr/local/lib/python3.7/dist-packages (from requests<3,>=2.21.0->tensorboard~=2.4->tensorflow->russtress) (1.24.3)\n",
            "Requirement already satisfied: idna<3,>=2.5 in /usr/local/lib/python3.7/dist-packages (from requests<3,>=2.21.0->tensorboard~=2.4->tensorflow->russtress) (2.10)\n",
            "Requirement already satisfied: certifi>=2017.4.17 in /usr/local/lib/python3.7/dist-packages (from requests<3,>=2.21.0->tensorboard~=2.4->tensorflow->russtress) (2020.12.5)\n",
            "Requirement already satisfied: cachetools<5.0,>=2.0.0 in /usr/local/lib/python3.7/dist-packages (from google-auth<2,>=1.6.3->tensorboard~=2.4->tensorflow->russtress) (4.2.1)\n",
            "Requirement already satisfied: rsa<5,>=3.1.4; python_version >= \"3.6\" in /usr/local/lib/python3.7/dist-packages (from google-auth<2,>=1.6.3->tensorboard~=2.4->tensorflow->russtress) (4.7.2)\n",
            "Requirement already satisfied: pyasn1-modules>=0.2.1 in /usr/local/lib/python3.7/dist-packages (from google-auth<2,>=1.6.3->tensorboard~=2.4->tensorflow->russtress) (0.2.8)\n",
            "Requirement already satisfied: importlib-metadata; python_version < \"3.8\" in /usr/local/lib/python3.7/dist-packages (from markdown>=2.6.8->tensorboard~=2.4->tensorflow->russtress) (3.10.1)\n",
            "Requirement already satisfied: requests-oauthlib>=0.7.0 in /usr/local/lib/python3.7/dist-packages (from google-auth-oauthlib<0.5,>=0.4.1->tensorboard~=2.4->tensorflow->russtress) (1.3.0)\n",
            "Requirement already satisfied: pyasn1>=0.1.3 in /usr/local/lib/python3.7/dist-packages (from rsa<5,>=3.1.4; python_version >= \"3.6\"->google-auth<2,>=1.6.3->tensorboard~=2.4->tensorflow->russtress) (0.4.8)\n",
            "Requirement already satisfied: zipp>=0.5 in /usr/local/lib/python3.7/dist-packages (from importlib-metadata; python_version < \"3.8\"->markdown>=2.6.8->tensorboard~=2.4->tensorflow->russtress) (3.4.1)\n",
            "Requirement already satisfied: oauthlib>=3.0.0 in /usr/local/lib/python3.7/dist-packages (from requests-oauthlib>=0.7.0->google-auth-oauthlib<0.5,>=0.4.1->tensorboard~=2.4->tensorflow->russtress) (3.1.0)\n"
          ],
          "name": "stdout"
        }
      ]
    },
    {
      "cell_type": "code",
      "metadata": {
        "id": "D3KZLbcGuW0x"
      },
      "source": [
        "import markovify\n",
        "from markovify.chain import BEGIN, END"
      ],
      "execution_count": 3,
      "outputs": []
    },
    {
      "cell_type": "code",
      "metadata": {
        "id": "Vl1fZFGKLyBY"
      },
      "source": [
        "text = \"\"\n",
        "with open('filtred_lines.txt', 'r') as f:\n",
        "  text = f.read()"
      ],
      "execution_count": 4,
      "outputs": []
    },
    {
      "cell_type": "code",
      "metadata": {
        "id": "Og3FG2INGagQ"
      },
      "source": [
        "model = markovify.NewlineText(text, retain_original=1)\n",
        "\n",
        "text = list(set(text.split()))"
      ],
      "execution_count": 5,
      "outputs": []
    },
    {
      "cell_type": "code",
      "metadata": {
        "id": "Rij_eCDORqmB"
      },
      "source": [
        "def get_choices(model, state):\n",
        "        \"\"\"\n",
        "        Given a state, give the list of next words and weight of this words.\n",
        "        \"\"\"\n",
        "        if model.chain.compiled:\n",
        "          choices, _ = model.chain.model[state]\n",
        "          weights = [1]*len(choices)\n",
        "        elif state == tuple([ BEGIN ] * model.chain.state_size):\n",
        "          choices = model.chain.begin_choices\n",
        "          weights = [1]*len(choices)\n",
        "        else:\n",
        "          choices, weights = zip(*model.chain.model[state].items())\n",
        "        choices = list(choices)\n",
        "        weights = list(weights)\n",
        "        lst = list(zip(weights, choices))\n",
        "        lst.sort()\n",
        "        choices = [ch for _, ch in lst]\n",
        "        return choices"
      ],
      "execution_count": 6,
      "outputs": []
    },
    {
      "cell_type": "code",
      "metadata": {
        "id": "MfhifMXz8mYE"
      },
      "source": [
        "from tqdm import tqdm\n",
        "\n",
        "from russtress import Accent\n",
        "accent = Accent()\n",
        "\n",
        "def is_rhyme(word_a, word_b):\n",
        "  # оставляем только суффикс сразу после ударения\n",
        "  word_a = word_a[accent.put_stress(word_a).find('`'):]\n",
        "  word_b = word_b[accent.put_stress(word_b).find('`'):]\n",
        "  return word_a == word_b\n",
        "\n",
        "rhyme = dict()\n",
        "\n",
        "text = get_choices(model, (BEGIN, '$'))"
      ],
      "execution_count": 7,
      "outputs": []
    },
    {
      "cell_type": "code",
      "metadata": {
        "id": "TGYvgyzK9u4X"
      },
      "source": [
        "import random\n",
        "\n",
        "def generate_rhyme_line(model, prev_line):\n",
        "  prev_word = prev_line.split()[0]\n",
        "  choices = get_choices(model, (BEGIN, '$'))[:100]\n",
        "  rhyme_choices = [word for word in choices if is_rhyme(word, prev_word)]\n",
        "  if rhyme_choices == []:\n",
        "    rhyme_choices = choices\n",
        "  rhyme_word = rhyme_choices[random.randint(0, len(rhyme_choices)-1)]\n",
        "  result = [rhyme_word]\n",
        "  length = random.randint(4, 6)\n",
        "  state = ('$', rhyme_word)\n",
        "  for i in range(length):\n",
        "    try:\n",
        "      result += model.chain.walk((state))\n",
        "    except:\n",
        "      break\n",
        "    state = (state[1], result[-1])\n",
        "  result = ' '.join(result)\n",
        "  return result"
      ],
      "execution_count": 8,
      "outputs": []
    },
    {
      "cell_type": "code",
      "metadata": {
        "colab": {
          "base_uri": "https://localhost:8080/"
        },
        "id": "iL-nWy95ERtg",
        "outputId": "63288dbf-4e7d-4638-a461-d80af0c88926"
      },
      "source": [
        "for i in range(20):\n",
        "  first_line = model.make_sentence()\n",
        "  first_line = ' '.join(first_line.split()[1:])\n",
        "  second_line = generate_rhyme_line(model, first_line)\n",
        "  first_line = ' '.join(first_line.split()[::-1])\n",
        "  second_line = ' '.join(second_line.split()[::-1])\n",
        "  print(first_line)\n",
        "  print(second_line)\n"
      ],
      "execution_count": null,
      "outputs": [
        {
          "output_type": "stream",
          "text": [
            "возьмет ли арфу дивной силой укроти\n",
            "в час торжеств адонаи\n",
            "и мы получим этот край назвал бы зурбаганом\n",
            "штыки горят под солнцем азиатским\n",
            "и чешется у вас еще достаточно делов\n",
            "и ста вестминстерских аббатств\n",
            "однакож как ни страшна\n",
            "и в ответ ага\n",
            "и мы дрожим как маленькие черти\n",
            "не надо долгой агитации\n",
            "почтенный человек помог ему заступник честно слово\n",
            "можно б административно\n",
            "не в минуте живем а мы так не похоже на соседний пырей\n",
            "таруса где подписью в и прусский и прусский и австрийский\n",
            "мужицким пахнет варевом костры в дыму угроз нескромных\n",
            "в мечтах абстрактных\n",
            "даже писем мне было мало или много\n",
            "без претензий на авторство\n",
            "ты друг мой спит\n",
            "когда он был человек тот авантюрист\n",
            "я буду таким как ты изменился\n",
            "да колен и как стройна гляди аглая\n",
            "но все ж хочу\n",
            "обращено к александру абрамовичу\n",
            "но дерево растет напротив\n",
            "и ста вестминстерских аббатств\n",
            "гудки звонки и голоса людей\n",
            "а мальчик то же говорят абстрактный\n"
          ],
          "name": "stdout"
        }
      ]
    }
  ]
}