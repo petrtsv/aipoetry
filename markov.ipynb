{
  "nbformat": 4,
  "nbformat_minor": 0,
  "metadata": {
    "colab": {
      "name": "markov.ipynb",
      "provenance": [],
      "collapsed_sections": [],
      "authorship_tag": "ABX9TyMEWL+eRb7CHzdx1rK7wR4M",
      "include_colab_link": true
    },
    "kernelspec": {
      "display_name": "Python 3",
      "name": "python3"
    },
    "language_info": {
      "name": "python"
    }
  },
  "cells": [
    {
      "cell_type": "markdown",
      "metadata": {
        "id": "view-in-github",
        "colab_type": "text"
      },
      "source": [
        "<a href=\"https://colab.research.google.com/github/petrtsv/aipoetry/blob/main/markov.ipynb\" target=\"_parent\"><img src=\"https://colab.research.google.com/assets/colab-badge.svg\" alt=\"Open In Colab\"/></a>"
      ]
    },
    {
      "cell_type": "code",
      "metadata": {
        "colab": {
          "base_uri": "https://localhost:8080/"
        },
        "id": "jj4dZTvRF48O",
        "outputId": "4022463a-11aa-4c78-ce77-2c126f7ce1e1"
      },
      "source": [
        "!pip install markovify"
      ],
      "execution_count": 1,
      "outputs": [
        {
          "output_type": "stream",
          "text": [
            "Requirement already satisfied: markovify in /usr/local/lib/python3.7/dist-packages (0.9.0)\n",
            "Requirement already satisfied: unidecode in /usr/local/lib/python3.7/dist-packages (from markovify) (1.2.0)\n"
          ],
          "name": "stdout"
        }
      ]
    },
    {
      "cell_type": "code",
      "metadata": {
        "id": "D3KZLbcGuW0x"
      },
      "source": [
        "import markovify\n",
        "from markovify.chain import BEGIN, END\n",
        "import pickle\n",
        "import requests\n",
        "from collections import defaultdict\n",
        "import random\n",
        "import requests\n",
        "from bs4 import BeautifulSoup\n",
        "from tqdm import tqdm\n",
        "import sys\n",
        "import json\n",
        "\n",
        "sys.setrecursionlimit(1000000)"
      ],
      "execution_count": 2,
      "outputs": []
    },
    {
      "cell_type": "code",
      "metadata": {
        "id": "smaqrwuJhS82"
      },
      "source": [
        "def save_obj(obj, name):\n",
        "    with open(name + '.pkl', 'wb') as f:\n",
        "        pickle.dump(obj, f)\n",
        "\n",
        "def load_obj(name):\n",
        "    with open(name + '.pkl', 'rb') as f:\n",
        "        return pickle.load(f)"
      ],
      "execution_count": 3,
      "outputs": []
    },
    {
      "cell_type": "code",
      "metadata": {
        "id": "BJzyc6ls1b0B"
      },
      "source": [
        "def save_json_obj(obj, name):\n",
        "  with open(name+'.json', 'w+') as f:\n",
        "    json.dump(obj, f)\n",
        "\n",
        "def load_json_obj(name):\n",
        "  with open(name+'.json', 'r+') as f:\n",
        "    return json.load(f)"
      ],
      "execution_count": 4,
      "outputs": []
    },
    {
      "cell_type": "code",
      "metadata": {
        "id": "Rij_eCDORqmB"
      },
      "source": [
        "def get_choices(model, state):\n",
        "        \"\"\"\n",
        "        Given a state, give the list of next words and weights of this words.\n",
        "        \"\"\"\n",
        "        try:\n",
        "          choices = [choice for choice in model.chain.model[state].keys()]\n",
        "          return choices\n",
        "        except:\n",
        "          return []"
      ],
      "execution_count": 5,
      "outputs": []
    },
    {
      "cell_type": "code",
      "metadata": {
        "id": "MfhifMXz8mYE"
      },
      "source": [
        "def get_rhymes(word):\n",
        "  url = 'https://rifmus.net/rifma/' + word\n",
        "  res = requests.get(url)\n",
        "  soup = BeautifulSoup(res.text)\n",
        "  words_table = soup.find('ul', {'class' : 'multicolumn'})\n",
        "  result = []\n",
        "  for ch in words_table.children:\n",
        "    result.append(ch.string)\n",
        "  result = set(result)\n",
        "  result.remove('\\n')\n",
        "  return list(result)\n",
        "\n",
        "def generate_rhyme_dict(text, filename):\n",
        "  rhyme = load_obj(filename)\n",
        "  res = {}\n",
        "  words_set = set(text.split())\n",
        "  words = list(words_set)\n",
        "  for w in tqdm(words):\n",
        "    st = rhyme[w]\n",
        "    if st == {} or st & words_set == {}:\n",
        "      res[w] = []\n",
        "      continue\n",
        "    res[w] = list(st & words_set)\n",
        "  return res\n",
        "\n",
        "def is_rhyme(a, b, rhyme_dict):\n",
        "  try:\n",
        "    return a in rhyme_dict[b] or b in rhyme_dict[a]\n",
        "  except:\n",
        "    return False"
      ],
      "execution_count": 6,
      "outputs": []
    },
    {
      "cell_type": "code",
      "metadata": {
        "id": "7JcIwQSo2vy8"
      },
      "source": [
        "def generate_sentence(model, begin_state, tries = 100, min_cnt = 4, max_cnt = 6):\n",
        "  result = ['default']\n",
        "  length = random.randint(min_cnt, max_cnt)\n",
        "  for i in range(tries):\n",
        "    state = begin_state\n",
        "    res = []\n",
        "    if begin_state[1] != BEGIN and begin_state[1] != '$':\n",
        "      res = [begin_state[1]]\n",
        "    # print(length)\n",
        "    for i in range(length):\n",
        "      try:\n",
        "        next = model.chain.move(state)\n",
        "        if next == END:\n",
        "          break\n",
        "        # print(next)\n",
        "        res.append(next)\n",
        "      except:\n",
        "        break\n",
        "      state = (state[1], res[-1])\n",
        "    if len(result) < min_cnt and len(res) > len(result):\n",
        "      result = res.copy()\n",
        "  result = ' '.join(result[::-1])\n",
        "  return result"
      ],
      "execution_count": 7,
      "outputs": []
    },
    {
      "cell_type": "code",
      "metadata": {
        "id": "TGYvgyzK9u4X"
      },
      "source": [
        "def generate_rhyme_line(model, prev_line, rhyme_dict):\n",
        "  if prev_line == '':\n",
        "    return ' '.join(generate_sentence(model, (BEGIN, '$'))[::-1])\n",
        "  prev_word = prev_line.split()[-1]\n",
        "  choices = get_choices(model, (BEGIN, '$'))\n",
        "  rhyme_choices = [word for word in choices if is_rhyme(word, prev_word, rhyme_dict)]\n",
        "  if rhyme_choices == []:\n",
        "    print('havent choices')\n",
        "    rhyme_choices = get_rhymes(prev_word)\n",
        "  rhyme_word = rhyme_choices[random.randint(0, len(rhyme_choices)-1)]\n",
        "  result = generate_sentence(model, ('$', rhyme_word))\n",
        "  return result"
      ],
      "execution_count": 8,
      "outputs": []
    },
    {
      "cell_type": "code",
      "metadata": {
        "id": "Vl1fZFGKLyBY"
      },
      "source": [
        "text = \"\"\n",
        "with open('sample_data/filtred_lines.txt') as f:\n",
        "  text = f.read()"
      ],
      "execution_count": 9,
      "outputs": []
    },
    {
      "cell_type": "code",
      "metadata": {
        "id": "Og3FG2INGagQ"
      },
      "source": [
        "model = markovify.NewlineText(text, retain_original=1)"
      ],
      "execution_count": 10,
      "outputs": []
    },
    {
      "cell_type": "code",
      "metadata": {
        "id": "-8_Gd8-5hUGP"
      },
      "source": [
        "rhyme_dict = load_json_obj('rhyme_dict')"
      ],
      "execution_count": 11,
      "outputs": []
    },
    {
      "cell_type": "code",
      "metadata": {
        "colab": {
          "base_uri": "https://localhost:8080/",
          "height": 35
        },
        "id": "_ohGDf5I3LMz",
        "outputId": "f79908d5-53fe-4b44-a4df-033b94f96f18"
      },
      "source": [
        "generate_sentence(model, (BEGIN, '$'))"
      ],
      "execution_count": 12,
      "outputs": [
        {
          "output_type": "execute_result",
          "data": {
            "application/vnd.google.colaboratory.intrinsic+json": {
              "type": "string"
            },
            "text/plain": [
              "'а меня не простит'"
            ]
          },
          "metadata": {
            "tags": []
          },
          "execution_count": 12
        }
      ]
    },
    {
      "cell_type": "code",
      "metadata": {
        "id": "iL-nWy95ERtg",
        "colab": {
          "base_uri": "https://localhost:8080/"
        },
        "outputId": "d6dce4cb-5a0b-48a4-d84c-17ad647f00f1"
      },
      "source": [
        "for i in range(20):\n",
        "  fword = random.choice(list(rhyme_dict.keys()))\n",
        "  first_line = generate_sentence(model, ('$', fword))\n",
        "  second_line = generate_rhyme_line(model, first_line, rhyme_dict)\n",
        "  print(first_line)\n",
        "  print(second_line)\n"
      ],
      "execution_count": 13,
      "outputs": [
        {
          "output_type": "stream",
          "text": [
            "мы пара тварей с ноева ковчега\n",
            "дева света где ты бегал\n",
            "она мертва среди родного стана\n",
            "знаю зачем я не отстану\n",
            "havent choices\n",
            "но вс таинственней и дивней\n",
            "default\n",
            "зарастает в груди забытых статуй\n",
            "громкие галки над ним лохматый\n",
            "рассыпался вдруг на золотой галере\n",
            "как невесту лелеял как сына берег\n",
            "havent choices\n",
            "но тайна слов тех не разгадана\n",
            "default\n",
            "твердыни и от чего\n",
            "звон и в лаврах сына своего\n",
            "резва свободна и смела\n",
            "в червонную землю давненько вросла\n",
            "на мне платочков триста штук\n",
            "ты работа нежных рук\n",
            "в вечерний час звуча рассветом\n",
            "это не ходячая монета\n",
            "зажег везде лампады и свечи\n",
            "молчальниц на вид такой приветный вечер\n",
            "прелестный цвет любви увял\n",
            "эпоха наша вся девятый вал\n",
            "замке высоком никто не приходит\n",
            "пафос мне не свойствен по природе\n",
            "на тропинке с клюшкою железной\n",
            "свершающих свой подвиг бесполезный\n",
            "ровно половину тех солдат\n",
            "по праву все безгрешные корят\n",
            "грачи в чаду затрепетала\n",
            "красавица очам твоим предстала\n",
            "и ты как свеча\n",
            "на фабрике немецкой вот сейчас\n",
            "сын роскоши прохлад и нег\n",
            "в златые дни в екатеринин век\n",
            "тонет в влаге дол узорный\n",
            "а по стеклам шуршит узорным\n",
            "к познанью был неотразим\n",
            "я был набит по горло пережитым\n"
          ],
          "name": "stdout"
        }
      ]
    },
    {
      "cell_type": "code",
      "metadata": {
        "id": "BEfk-zI8jt4k"
      },
      "source": [
        ""
      ],
      "execution_count": 13,
      "outputs": []
    }
  ]
}