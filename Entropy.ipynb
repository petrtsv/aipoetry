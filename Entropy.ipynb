{
  "nbformat": 4,
  "nbformat_minor": 0,
  "metadata": {
    "colab": {
      "name": "Entropy.ipynb",
      "provenance": [],
      "authorship_tag": "ABX9TyMcFflent8PP/cj7EiafpVA",
      "include_colab_link": true
    },
    "kernelspec": {
      "name": "python3",
      "display_name": "Python 3"
    },
    "language_info": {
      "name": "python"
    }
  },
  "cells": [
    {
      "cell_type": "markdown",
      "metadata": {
        "id": "view-in-github",
        "colab_type": "text"
      },
      "source": [
        "<a href=\"https://colab.research.google.com/github/petrtsv/aipoetry/blob/NLP/Entropy.ipynb\" target=\"_parent\"><img src=\"https://colab.research.google.com/assets/colab-badge.svg\" alt=\"Open In Colab\"/></a>"
      ]
    },
    {
      "cell_type": "code",
      "metadata": {
        "colab": {
          "base_uri": "https://localhost:8080/"
        },
        "id": "63uHsBkZAbuF",
        "outputId": "77a18948-5d1b-40ab-a30c-d2f9ad72ec6f"
      },
      "source": [
        "!pip install russtress"
      ],
      "execution_count": 10,
      "outputs": [
        {
          "output_type": "stream",
          "text": [
            "Collecting russtress\n",
            "\u001b[?25l  Downloading https://files.pythonhosted.org/packages/a6/5e/1a75335d161209c1bcb1ebeb3cb4e610c6daef6aa082b58ca7e154909279/russtress-0.1.4-py3-none-any.whl (432kB)\n",
            "\u001b[K     |████████████████████████████████| 440kB 5.3MB/s \n",
            "\u001b[?25hRequirement already satisfied: scipy in /usr/local/lib/python3.7/dist-packages (from russtress) (1.4.1)\n",
            "Requirement already satisfied: tensorflow in /usr/local/lib/python3.7/dist-packages (from russtress) (2.4.1)\n",
            "Requirement already satisfied: numpy in /usr/local/lib/python3.7/dist-packages (from russtress) (1.19.5)\n",
            "Requirement already satisfied: astunparse~=1.6.3 in /usr/local/lib/python3.7/dist-packages (from tensorflow->russtress) (1.6.3)\n",
            "Requirement already satisfied: wheel~=0.35 in /usr/local/lib/python3.7/dist-packages (from tensorflow->russtress) (0.36.2)\n",
            "Requirement already satisfied: google-pasta~=0.2 in /usr/local/lib/python3.7/dist-packages (from tensorflow->russtress) (0.2.0)\n",
            "Requirement already satisfied: absl-py~=0.10 in /usr/local/lib/python3.7/dist-packages (from tensorflow->russtress) (0.12.0)\n",
            "Requirement already satisfied: wrapt~=1.12.1 in /usr/local/lib/python3.7/dist-packages (from tensorflow->russtress) (1.12.1)\n",
            "Requirement already satisfied: tensorboard~=2.4 in /usr/local/lib/python3.7/dist-packages (from tensorflow->russtress) (2.4.1)\n",
            "Requirement already satisfied: six~=1.15.0 in /usr/local/lib/python3.7/dist-packages (from tensorflow->russtress) (1.15.0)\n",
            "Requirement already satisfied: tensorflow-estimator<2.5.0,>=2.4.0 in /usr/local/lib/python3.7/dist-packages (from tensorflow->russtress) (2.4.0)\n",
            "Requirement already satisfied: grpcio~=1.32.0 in /usr/local/lib/python3.7/dist-packages (from tensorflow->russtress) (1.32.0)\n",
            "Requirement already satisfied: opt-einsum~=3.3.0 in /usr/local/lib/python3.7/dist-packages (from tensorflow->russtress) (3.3.0)\n",
            "Requirement already satisfied: h5py~=2.10.0 in /usr/local/lib/python3.7/dist-packages (from tensorflow->russtress) (2.10.0)\n",
            "Requirement already satisfied: flatbuffers~=1.12.0 in /usr/local/lib/python3.7/dist-packages (from tensorflow->russtress) (1.12)\n",
            "Requirement already satisfied: keras-preprocessing~=1.1.2 in /usr/local/lib/python3.7/dist-packages (from tensorflow->russtress) (1.1.2)\n",
            "Requirement already satisfied: protobuf>=3.9.2 in /usr/local/lib/python3.7/dist-packages (from tensorflow->russtress) (3.12.4)\n",
            "Requirement already satisfied: typing-extensions~=3.7.4 in /usr/local/lib/python3.7/dist-packages (from tensorflow->russtress) (3.7.4.3)\n",
            "Requirement already satisfied: gast==0.3.3 in /usr/local/lib/python3.7/dist-packages (from tensorflow->russtress) (0.3.3)\n",
            "Requirement already satisfied: termcolor~=1.1.0 in /usr/local/lib/python3.7/dist-packages (from tensorflow->russtress) (1.1.0)\n",
            "Requirement already satisfied: markdown>=2.6.8 in /usr/local/lib/python3.7/dist-packages (from tensorboard~=2.4->tensorflow->russtress) (3.3.4)\n",
            "Requirement already satisfied: google-auth<2,>=1.6.3 in /usr/local/lib/python3.7/dist-packages (from tensorboard~=2.4->tensorflow->russtress) (1.28.1)\n",
            "Requirement already satisfied: requests<3,>=2.21.0 in /usr/local/lib/python3.7/dist-packages (from tensorboard~=2.4->tensorflow->russtress) (2.23.0)\n",
            "Requirement already satisfied: google-auth-oauthlib<0.5,>=0.4.1 in /usr/local/lib/python3.7/dist-packages (from tensorboard~=2.4->tensorflow->russtress) (0.4.4)\n",
            "Requirement already satisfied: setuptools>=41.0.0 in /usr/local/lib/python3.7/dist-packages (from tensorboard~=2.4->tensorflow->russtress) (56.1.0)\n",
            "Requirement already satisfied: tensorboard-plugin-wit>=1.6.0 in /usr/local/lib/python3.7/dist-packages (from tensorboard~=2.4->tensorflow->russtress) (1.8.0)\n",
            "Requirement already satisfied: werkzeug>=0.11.15 in /usr/local/lib/python3.7/dist-packages (from tensorboard~=2.4->tensorflow->russtress) (1.0.1)\n",
            "Requirement already satisfied: importlib-metadata; python_version < \"3.8\" in /usr/local/lib/python3.7/dist-packages (from markdown>=2.6.8->tensorboard~=2.4->tensorflow->russtress) (3.10.1)\n",
            "Requirement already satisfied: cachetools<5.0,>=2.0.0 in /usr/local/lib/python3.7/dist-packages (from google-auth<2,>=1.6.3->tensorboard~=2.4->tensorflow->russtress) (4.2.1)\n",
            "Requirement already satisfied: pyasn1-modules>=0.2.1 in /usr/local/lib/python3.7/dist-packages (from google-auth<2,>=1.6.3->tensorboard~=2.4->tensorflow->russtress) (0.2.8)\n",
            "Requirement already satisfied: rsa<5,>=3.1.4; python_version >= \"3.6\" in /usr/local/lib/python3.7/dist-packages (from google-auth<2,>=1.6.3->tensorboard~=2.4->tensorflow->russtress) (4.7.2)\n",
            "Requirement already satisfied: certifi>=2017.4.17 in /usr/local/lib/python3.7/dist-packages (from requests<3,>=2.21.0->tensorboard~=2.4->tensorflow->russtress) (2020.12.5)\n",
            "Requirement already satisfied: chardet<4,>=3.0.2 in /usr/local/lib/python3.7/dist-packages (from requests<3,>=2.21.0->tensorboard~=2.4->tensorflow->russtress) (3.0.4)\n",
            "Requirement already satisfied: idna<3,>=2.5 in /usr/local/lib/python3.7/dist-packages (from requests<3,>=2.21.0->tensorboard~=2.4->tensorflow->russtress) (2.10)\n",
            "Requirement already satisfied: urllib3!=1.25.0,!=1.25.1,<1.26,>=1.21.1 in /usr/local/lib/python3.7/dist-packages (from requests<3,>=2.21.0->tensorboard~=2.4->tensorflow->russtress) (1.24.3)\n",
            "Requirement already satisfied: requests-oauthlib>=0.7.0 in /usr/local/lib/python3.7/dist-packages (from google-auth-oauthlib<0.5,>=0.4.1->tensorboard~=2.4->tensorflow->russtress) (1.3.0)\n",
            "Requirement already satisfied: zipp>=0.5 in /usr/local/lib/python3.7/dist-packages (from importlib-metadata; python_version < \"3.8\"->markdown>=2.6.8->tensorboard~=2.4->tensorflow->russtress) (3.4.1)\n",
            "Requirement already satisfied: pyasn1<0.5.0,>=0.4.6 in /usr/local/lib/python3.7/dist-packages (from pyasn1-modules>=0.2.1->google-auth<2,>=1.6.3->tensorboard~=2.4->tensorflow->russtress) (0.4.8)\n",
            "Requirement already satisfied: oauthlib>=3.0.0 in /usr/local/lib/python3.7/dist-packages (from requests-oauthlib>=0.7.0->google-auth-oauthlib<0.5,>=0.4.1->tensorboard~=2.4->tensorflow->russtress) (3.1.0)\n",
            "Installing collected packages: russtress\n",
            "Successfully installed russtress-0.1.4\n"
          ],
          "name": "stdout"
        }
      ]
    },
    {
      "cell_type": "code",
      "metadata": {
        "id": "5Hp1MHCIApkZ"
      },
      "source": [
        "from russtress import Accent\n",
        "accent = Accent()"
      ],
      "execution_count": 11,
      "outputs": []
    },
    {
      "cell_type": "code",
      "metadata": {
        "colab": {
          "base_uri": "https://localhost:8080/",
          "height": 35
        },
        "id": "Pnh5vKoXAuxs",
        "outputId": "ffdcc1a6-55a5-4e7b-f8f7-d55deeb85906"
      },
      "source": [
        "text = 'петух'\n",
        "accent.put_stress(text)"
      ],
      "execution_count": 12,
      "outputs": [
        {
          "output_type": "execute_result",
          "data": {
            "application/vnd.google.colaboratory.intrinsic+json": {
              "type": "string"
            },
            "text/plain": [
              "\"пету'х\""
            ]
          },
          "metadata": {
            "tags": []
          },
          "execution_count": 12
        }
      ]
    },
    {
      "cell_type": "code",
      "metadata": {
        "id": "_o83JirYA69J"
      },
      "source": [
        "s = 'уеыаоэяию'\n",
        "sequence = '+-'*12\n",
        "expectation = 0\n",
        "def yamb(word):\n",
        "  global expectation\n",
        "  print(expectation)\n",
        "  word = accent.put_stress(word)\n",
        "  for i in s:\n",
        "    word = word.replace(i,'-')\n",
        "  wort_sequence = ''\n",
        "  for i in range(len(word)):\n",
        "    if word[i] == '-':\n",
        "      if i != len(word)-1 and word[i+1] == \"'\":\n",
        "        wort_sequence += '+'\n",
        "      else:\n",
        "        wort_sequence += '-'\n",
        "  wort_sequence = wort_sequence[::-1]\n",
        "  \n",
        "  if len(wort_sequence) == 1:\n",
        "    wort_sequence = '+'\n",
        "  print(wort_sequence)\n",
        "  if expectation == 0: \n",
        "    expectation += wort_sequence[0] == '-'\n",
        "  for i in range(len(wort_sequence)):\n",
        "    if wort_sequence[i] == sequence[expectation]:\n",
        "      expectation += 1 \n",
        "    else:\n",
        "      if len(wort_sequence) > 2:\n",
        "        if sequence[expectation] == '+':\n",
        "          expectation += 1\n",
        "        else:\n",
        "          expectation -= (i)\n",
        "          return False  \n",
        "      else:\n",
        "        expectation -= (i)\n",
        "        return False\n",
        "\n",
        "  return True"
      ],
      "execution_count": 13,
      "outputs": []
    },
    {
      "cell_type": "code",
      "metadata": {
        "id": "EcPECgXhBM1J"
      },
      "source": [
        "def classification_of_vowels(word):\n",
        "  s = 'уеыаоэяию'\n",
        "\n",
        "  for i in s:\n",
        "      word = word[noumber_str].replace(i,'-')\n",
        "  word_sequence = ''\n",
        "  for i in range(len(word)):\n",
        "    if word[i] == '-':\n",
        "      if i != len(word)-1 and word[i+1] == \"'\":\n",
        "        word_sequence += '+'\n",
        "      else:\n",
        "        word_sequence += '-'\n",
        "  word_sequence = word_sequence[::-1]\n",
        "  if len(word_sequence) == 1:\n",
        "    word_sequence = '+'\n",
        "  return word_sequence \n",
        "\n",
        "def ryfma(word1,word2):\n",
        "  word1 = classification_of_vowels(word1)\n",
        "  word2 = classification_of_vowels(word2)\n",
        "  return word1[:accent.put_stress(word1).find()] == word2[:accent.put_stress(word2).find()]"
      ],
      "execution_count": 14,
      "outputs": []
    },
    {
      "cell_type": "code",
      "metadata": {
        "colab": {
          "base_uri": "https://localhost:8080/"
        },
        "id": "Zg-OuvZQBprq",
        "outputId": "749486e8-e0dd-4244-fe3e-c67a9ff6f736"
      },
      "source": [
        "yamb('дом')"
      ],
      "execution_count": 15,
      "outputs": [
        {
          "output_type": "stream",
          "text": [
            "0\n",
            "+\n"
          ],
          "name": "stdout"
        },
        {
          "output_type": "execute_result",
          "data": {
            "text/plain": [
              "True"
            ]
          },
          "metadata": {
            "tags": []
          },
          "execution_count": 15
        }
      ]
    },
    {
      "cell_type": "code",
      "metadata": {
        "colab": {
          "base_uri": "https://localhost:8080/"
        },
        "id": "SO-TdVnrCd2Y",
        "outputId": "75af5e9e-aec1-4055-f3b6-13d6f7474cb5"
      },
      "source": [
        "expectation"
      ],
      "execution_count": 16,
      "outputs": [
        {
          "output_type": "execute_result",
          "data": {
            "text/plain": [
              "1"
            ]
          },
          "metadata": {
            "tags": []
          },
          "execution_count": 16
        }
      ]
    },
    {
      "cell_type": "code",
      "metadata": {
        "colab": {
          "base_uri": "https://localhost:8080/"
        },
        "id": "bHdGAuqnCy8L",
        "outputId": "81e91314-7ac3-4e6c-c6ca-abb7d0362134"
      },
      "source": [
        "yamb('дорога')"
      ],
      "execution_count": 17,
      "outputs": [
        {
          "output_type": "stream",
          "text": [
            "1\n",
            "-+-\n"
          ],
          "name": "stdout"
        },
        {
          "output_type": "execute_result",
          "data": {
            "text/plain": [
              "True"
            ]
          },
          "metadata": {
            "tags": []
          },
          "execution_count": 17
        }
      ]
    },
    {
      "cell_type": "code",
      "metadata": {
        "colab": {
          "base_uri": "https://localhost:8080/"
        },
        "id": "S_eDc_kPNzAA",
        "outputId": "224b081e-0e64-481e-b5b7-419f7c30c195"
      },
      "source": [
        "yamb('ананас')"
      ],
      "execution_count": 18,
      "outputs": [
        {
          "output_type": "stream",
          "text": [
            "4\n",
            "+--\n"
          ],
          "name": "stdout"
        },
        {
          "output_type": "execute_result",
          "data": {
            "text/plain": [
              "True"
            ]
          },
          "metadata": {
            "tags": []
          },
          "execution_count": 18
        }
      ]
    },
    {
      "cell_type": "code",
      "metadata": {
        "id": "cMRN5vLLPXhA"
      },
      "source": [
        "s = 'уеыаоэяию'\n",
        "sequence = '+--'*12\n",
        "expectation = 0\n",
        "def daktil(word):\n",
        "  global expectation\n",
        "  print(expectation)\n",
        "  word = accent.put_stress(word)\n",
        "  for i in s:\n",
        "    word = word.replace(i,'-')\n",
        "  wort_sequence = ''\n",
        "  for i in range(len(word)):\n",
        "    if word[i] == '-':\n",
        "      if i != len(word)-1 and word[i+1] == \"'\":\n",
        "        wort_sequence += '+'\n",
        "      else:\n",
        "        wort_sequence += '-'\n",
        "  \n",
        "  wort_sequence = wort_sequence[::-1]\n",
        "  if len(wort_sequence) == 1:\n",
        "    wort_sequence = '+'\n",
        "\n",
        "  print(wort_sequence)\n",
        "\n",
        "  if expectation == 0: \n",
        "    expectation = word_sequence.find('+')\n",
        "  for i in range(len(wort_sequence)):\n",
        "    if wort_sequence[i] == sequence[expectation]:\n",
        "      expectation += 1 \n",
        "    else:\n",
        "      if len(wort_sequence) > 2:\n",
        "        if sequence[expectation] == '+':\n",
        "          expectation += 1\n",
        "        else:\n",
        "          expectation -= (i)\n",
        "          return False  \n",
        "      else:\n",
        "        expectation -= (i)\n",
        "        return False\n",
        "\n",
        "  return True"
      ],
      "execution_count": 19,
      "outputs": []
    },
    {
      "cell_type": "code",
      "metadata": {
        "id": "RJh4qI5tT6lS"
      },
      "source": [
        "s = 'уеыаоэяию'\n",
        "sequence = ['+-'*12,'--+'*12] \n",
        "expectation = [0,0]\n",
        "metr_bool = [True,True]  \n",
        "def metr(word):\n",
        "  global expectation\n",
        "\n",
        "  word = accent.put_stress(word)\n",
        "  \n",
        "  for i in s:\n",
        "    word = word.replace(i,'-')\n",
        "  word_sequence = ''\n",
        "  for i in range(len(word)):\n",
        "    if word[i] == '-':\n",
        "      if i != len(word)-1 and word[i+1] == \"'\":\n",
        "        word_sequence += '+'\n",
        "      else:\n",
        "        word_sequence += '-'\n",
        "  \n",
        "  word_sequence = word_sequence[::-1]\n",
        "  if len(word_sequence) == 1:\n",
        "    word_sequence = '+'\n",
        "\n",
        "  if expectation[0] == 0: \n",
        "    expectation[0] += word_sequence[0] == '-'\n",
        "  if expectation[1] == 0:\n",
        "    # +-- -> -+- +2 -> --+ +1 \n",
        "    # -+- -> +-- +1 -> --+ +2\n",
        "    # --+ -> +-- +2 -> -+- +1 ---> самое удобное --> 2-word_sequence.find('+')\n",
        "    expectation[1] = 2-word_sequence.find('+')\n",
        "\n",
        "  for i in range(len(word_sequence)): \n",
        "    for j in range(2): # Вид Ямб или декатиль\n",
        "      if metr_bool[j] == True:\n",
        "        if word_sequence[i] == sequence[j][expectation[j]]:\n",
        "          expectation[j] += 1 \n",
        "        else:\n",
        "          if len(word_sequence) == 1:\n",
        "            expectation[j] += 1\n",
        "          elif len(word_sequence) > 2:\n",
        "            if sequence[j][expectation[j]] == '+':\n",
        "              expectation[j] += 1\n",
        "            else:\n",
        "              expectation[j] -= (i)\n",
        "              metr_bool[j] = False  \n",
        "          else:\n",
        "            expectation[j] -= (i)\n",
        "            metr_bool[j] = False\n",
        "\n",
        "  return metr_bool[0] or metr_bool[1]"
      ],
      "execution_count": 20,
      "outputs": []
    },
    {
      "cell_type": "code",
      "metadata": {
        "colab": {
          "base_uri": "https://localhost:8080/"
        },
        "id": "OBIf4DvKT-ll",
        "outputId": "3223b375-6bab-4636-ad32-e8f310adc589"
      },
      "source": [
        "expectation = [0,0]\n",
        "metr_bool = [True,True] \n",
        "p = 'Прозвенело в померкшем лугу' \n",
        "for i in p.split()[::-1]:\n",
        "    print(metr(i))"
      ],
      "execution_count": 21,
      "outputs": [
        {
          "output_type": "stream",
          "text": [
            "True\n",
            "True\n",
            "True\n",
            "True\n"
          ],
          "name": "stdout"
        }
      ]
    },
    {
      "cell_type": "code",
      "metadata": {
        "id": "VodvSXaKxj31"
      },
      "source": [
        "def shift(word):\n",
        "  expectation = [0]*5\n",
        "  for j in range(len(expectation)):\n",
        "    cyclic_counter = 2 + (j > 1)\n",
        "    expectation[j] = len(word)%cyclic_counter\n",
        "  return expectation\n",
        "\n",
        "\n",
        "def classification_of_vowels(word):\n",
        "  s = 'уеыаоэяию'\n",
        "\n",
        "  for i in s:\n",
        "      word = word.replace(i,'-')\n",
        "  word_sequence = ''\n",
        "  for i in range(len(word)):\n",
        "    if word[i] == '-':\n",
        "      if i != len(word)-1 and word[i+1] == \"'\":\n",
        "        word_sequence += '+'\n",
        "      else:\n",
        "        word_sequence += '-'\n",
        "  word_sequence = word_sequence[::-1]\n",
        "  if len(word_sequence) == 1:\n",
        "    word_sequence = '+'\n",
        "  return word_sequence \n",
        "\n",
        "\n",
        "def determinator(word, expectation):\n",
        "  metr_bool = [True]*5\n",
        "  sequence = ['+-','-+','+--','-+-','--+'] \n",
        "\n",
        "  for i in range(len(word)): \n",
        "    for j in range(len(expectation)):\n",
        "      cyclic_counter = 2 + (j > 1)\n",
        "      if metr_bool[j] == True:\n",
        "        if word[i] == sequence[j][expectation[j]]:\n",
        "          expectation[j] = (expectation[j] + 1) % cyclic_counter \n",
        "        else:\n",
        "          if len(word) == 1:\n",
        "            expectation[j] = (expectation[j] + 1) % cyclic_counter\n",
        "          elif len(word) > 2:\n",
        "            if sequence[j][expectation[j]] == '+':\n",
        "              expectation[j] = (expectation[j] + 1) % cyclic_counter\n",
        "            else:\n",
        "              expectation[j] -= (i% cyclic_counter)\n",
        "              metr_bool[j] = False  \n",
        "          else:\n",
        "            expectation[j] -= (i% cyclic_counter)\n",
        "            metr_bool[j] = False\n",
        "  return metr_bool\n",
        "\n",
        "\n",
        "def metr(word):\n",
        "  expectation = [0]*5\n",
        "\n",
        "  word = word.split()\n",
        "  \n",
        "  if len(word) > 1: word = word[-2:][::-1]\n",
        "\n",
        "  word = [accent.put_stress(word[i]) for i in range(len(word))]\n",
        "  word = [classification_of_vowels(word[i]) for i in range(len(word))]\n",
        "\n",
        "  if len(word) > 1: expectation = shift(word[1])\n",
        "\n",
        "  metr_bool = determinator(word[0], expectation)\n",
        "\n",
        "  list_metr = ['horey','yamb','daktil','amphibrachium','anapest']\n",
        "  \n",
        "  return [list_metr[i] for i in range(len(metr_bool)) if metr_bool[i]] \n",
        "\n",
        "\n",
        "def ryfma(word1,word2):\n",
        "  word1 = classification_of_vowels(word1) # classification_of_vowels функция написанная выше\n",
        "  word2 = classification_of_vowels(word2)\n",
        "  return word1[:accent.put_stress(word1).find()] == word2[:accent.put_stress(word2).find()]"
      ],
      "execution_count": 40,
      "outputs": []
    },
    {
      "cell_type": "code",
      "metadata": {
        "colab": {
          "base_uri": "https://localhost:8080/"
        },
        "id": "I-W0e94JZ3Rb",
        "outputId": "f9fdf88b-22a9-472a-b111-0d3c29dd8afa"
      },
      "source": [
        "p = 'Прозвенело в померкшем лугу' \n",
        "print(metr(p))"
      ],
      "execution_count": 37,
      "outputs": [
        {
          "output_type": "stream",
          "text": [
            "['yamb', 'daktil']\n"
          ],
          "name": "stdout"
        }
      ]
    },
    {
      "cell_type": "code",
      "metadata": {
        "id": "W5eeP7XPZ8dI"
      },
      "source": [
        ""
      ],
      "execution_count": 38,
      "outputs": []
    },
    {
      "cell_type": "code",
      "metadata": {
        "id": "hQ-ueoF7mHK7"
      },
      "source": [
        ""
      ],
      "execution_count": null,
      "outputs": []
    }
  ]
}